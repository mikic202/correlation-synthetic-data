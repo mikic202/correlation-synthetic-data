{
 "cells": [
  {
   "cell_type": "code",
   "execution_count": 2,
   "metadata": {},
   "outputs": [],
   "source": [
    "from external.tab_pfn_gen.src.tabpfgen.tabpfgen import TabPFGen\n",
    "import torch\n",
    "from performance_metrics.measure_model_performance import measure_model_clasification_performance, measure_distance_to_nearest_neighbour\n",
    "from performance_metrics.measure_model_performance import  measure_regresion_model_performance, measure_k_anonimity\n",
    "import pandas as pd"
   ]
  },
  {
   "cell_type": "code",
   "execution_count": 3,
   "metadata": {},
   "outputs": [
    {
     "name": "stdout",
     "output_type": "stream",
     "text": [
      "Using device: cuda\n"
     ]
    }
   ],
   "source": [
    "device = torch.device('cuda' if torch.cuda.is_available() else 'cpu')\n",
    "print(\"Using device:\", device)"
   ]
  },
  {
   "cell_type": "markdown",
   "metadata": {},
   "source": [
    "# Test quality"
   ]
  },
  {
   "cell_type": "code",
   "execution_count": null,
   "metadata": {},
   "outputs": [],
   "source": [
    "generator = TabPFGen(n_sgld_steps=200, device=device)\n",
    "print(measure_model_clasification_performance(generator.generate_classification))"
   ]
  },
  {
   "cell_type": "code",
   "execution_count": null,
   "metadata": {},
   "outputs": [],
   "source": [
    "generator = TabPFGen(n_sgld_steps=200, device=device)\n",
    "print(measure_regresion_model_performance(generator.generate_regression))"
   ]
  },
  {
   "cell_type": "code",
   "execution_count": null,
   "metadata": {},
   "outputs": [],
   "source": [
    "generator = TabPFGen(n_sgld_steps=100, device=device)\n",
    "print(measure_distance_to_nearest_neighbour(generator.generate_regression, 1))"
   ]
  },
  {
   "cell_type": "code",
   "execution_count": null,
   "metadata": {},
   "outputs": [],
   "source": [
    "generator = TabPFGen(n_sgld_steps=200, device=device)\n",
    "print(measure_k_anonimity(generator.generate_regression))"
   ]
  },
  {
   "cell_type": "markdown",
   "metadata": {},
   "source": [
    "# FullTabPFGen results"
   ]
  },
  {
   "cell_type": "code",
   "execution_count": 7,
   "metadata": {},
   "outputs": [],
   "source": [
    "feature_order_results_files = {\"FullTabPFGen tree based\": \"tree.csv\", \"FullTabPFGen xgb based\": \"xgb.csv\", \"FullTabPFGen graph based\": \"graph.csv\", \"FullTabPFGen correlation_based\": \"corelation.csv\", \"FullTabPFGen\": \"FulltabPFGen.csv\", \"TabPFGen\": \"tabPFGen.csv\",  \"TabICLGen\": \"tabPFGen_ICL.csv\", \"SMOTE\": \"smote.csv\", \"Real\": \"real_data.csv\", \"CTGAN\": \"ctgan.csv\"}"
   ]
  },
  {
   "cell_type": "code",
   "execution_count": 8,
   "metadata": {},
   "outputs": [],
   "source": [
    "generation_results = {}\n",
    "\n",
    "for order_type, result_file in feature_order_results_files.items():\n",
    "    results = pd.read_csv(result_file, index_col=0)\n",
    "    generation_results[order_type] = results"
   ]
  },
  {
   "cell_type": "code",
   "execution_count": 9,
   "metadata": {},
   "outputs": [
    {
     "data": {
      "text/html": [
       "<div>\n",
       "<style scoped>\n",
       "    .dataframe tbody tr th:only-of-type {\n",
       "        vertical-align: middle;\n",
       "    }\n",
       "\n",
       "    .dataframe tbody tr th {\n",
       "        vertical-align: top;\n",
       "    }\n",
       "\n",
       "    .dataframe thead th {\n",
       "        text-align: right;\n",
       "    }\n",
       "</style>\n",
       "<table border=\"1\" class=\"dataframe\">\n",
       "  <thead>\n",
       "    <tr style=\"text-align: right;\">\n",
       "      <th></th>\n",
       "      <th>LR</th>\n",
       "      <th>TabICL</th>\n",
       "      <th>TabPFN</th>\n",
       "      <th>random_forest</th>\n",
       "      <th>xgboost</th>\n",
       "    </tr>\n",
       "  </thead>\n",
       "  <tbody>\n",
       "    <tr>\n",
       "      <th>FullTabPFGen tree based</th>\n",
       "      <td>0.891558</td>\n",
       "      <td>0.943673</td>\n",
       "      <td>0.941843</td>\n",
       "      <td>0.909762</td>\n",
       "      <td>0.879491</td>\n",
       "    </tr>\n",
       "    <tr>\n",
       "      <th>FullTabPFGen xgb based</th>\n",
       "      <td>0.946173</td>\n",
       "      <td>0.907171</td>\n",
       "      <td>0.933676</td>\n",
       "      <td>0.843965</td>\n",
       "      <td>0.835296</td>\n",
       "    </tr>\n",
       "    <tr>\n",
       "      <th>FullTabPFGen graph based</th>\n",
       "      <td>0.911119</td>\n",
       "      <td>0.899419</td>\n",
       "      <td>0.931837</td>\n",
       "      <td>0.911469</td>\n",
       "      <td>0.886160</td>\n",
       "    </tr>\n",
       "    <tr>\n",
       "      <th>FullTabPFGen correlation_based</th>\n",
       "      <td>0.946392</td>\n",
       "      <td>0.955507</td>\n",
       "      <td>0.953054</td>\n",
       "      <td>0.898129</td>\n",
       "      <td>0.931822</td>\n",
       "    </tr>\n",
       "    <tr>\n",
       "      <th>FullTabPFGen</th>\n",
       "      <td>0.954713</td>\n",
       "      <td>0.938880</td>\n",
       "      <td>0.944661</td>\n",
       "      <td>0.948593</td>\n",
       "      <td>0.901345</td>\n",
       "    </tr>\n",
       "    <tr>\n",
       "      <th>TabPFGen</th>\n",
       "      <td>0.936373</td>\n",
       "      <td>0.950484</td>\n",
       "      <td>0.962406</td>\n",
       "      <td>0.945520</td>\n",
       "      <td>0.931265</td>\n",
       "    </tr>\n",
       "    <tr>\n",
       "      <th>TabICLGen</th>\n",
       "      <td>0.964618</td>\n",
       "      <td>0.963242</td>\n",
       "      <td>0.963242</td>\n",
       "      <td>0.923735</td>\n",
       "      <td>0.939435</td>\n",
       "    </tr>\n",
       "    <tr>\n",
       "      <th>SMOTE</th>\n",
       "      <td>0.958756</td>\n",
       "      <td>0.966243</td>\n",
       "      <td>0.966738</td>\n",
       "      <td>0.938109</td>\n",
       "      <td>0.939495</td>\n",
       "    </tr>\n",
       "    <tr>\n",
       "      <th>Real</th>\n",
       "      <td>0.986703</td>\n",
       "      <td>0.979680</td>\n",
       "      <td>0.994592</td>\n",
       "      <td>0.987468</td>\n",
       "      <td>0.984125</td>\n",
       "    </tr>\n",
       "    <tr>\n",
       "      <th>CTGAN</th>\n",
       "      <td>0.659687</td>\n",
       "      <td>0.639809</td>\n",
       "      <td>0.669221</td>\n",
       "      <td>0.595880</td>\n",
       "      <td>0.608255</td>\n",
       "    </tr>\n",
       "  </tbody>\n",
       "</table>\n",
       "</div>"
      ],
      "text/plain": [
       "                                      LR    TabICL    TabPFN  random_forest  \\\n",
       "FullTabPFGen tree based         0.891558  0.943673  0.941843       0.909762   \n",
       "FullTabPFGen xgb based          0.946173  0.907171  0.933676       0.843965   \n",
       "FullTabPFGen graph based        0.911119  0.899419  0.931837       0.911469   \n",
       "FullTabPFGen correlation_based  0.946392  0.955507  0.953054       0.898129   \n",
       "FullTabPFGen                    0.954713  0.938880  0.944661       0.948593   \n",
       "TabPFGen                        0.936373  0.950484  0.962406       0.945520   \n",
       "TabICLGen                       0.964618  0.963242  0.963242       0.923735   \n",
       "SMOTE                           0.958756  0.966243  0.966738       0.938109   \n",
       "Real                            0.986703  0.979680  0.994592       0.987468   \n",
       "CTGAN                           0.659687  0.639809  0.669221       0.595880   \n",
       "\n",
       "                                 xgboost  \n",
       "FullTabPFGen tree based         0.879491  \n",
       "FullTabPFGen xgb based          0.835296  \n",
       "FullTabPFGen graph based        0.886160  \n",
       "FullTabPFGen correlation_based  0.931822  \n",
       "FullTabPFGen                    0.901345  \n",
       "TabPFGen                        0.931265  \n",
       "TabICLGen                       0.939435  \n",
       "SMOTE                           0.939495  \n",
       "Real                            0.984125  \n",
       "CTGAN                           0.608255  "
      ]
     },
     "metadata": {},
     "output_type": "display_data"
    }
   ],
   "source": [
    "display(pd.DataFrame({ordering_type: results.drop([\"dataset\"], axis=1).mean() for ordering_type, results in generation_results.items()}).T)"
   ]
  }
 ],
 "metadata": {
  "kernelspec": {
   "display_name": "pt",
   "language": "python",
   "name": "python3"
  },
  "language_info": {
   "codemirror_mode": {
    "name": "ipython",
    "version": 3
   },
   "file_extension": ".py",
   "mimetype": "text/x-python",
   "name": "python",
   "nbconvert_exporter": "python",
   "pygments_lexer": "ipython3",
   "version": "3.11.8"
  }
 },
 "nbformat": 4,
 "nbformat_minor": 2
}
