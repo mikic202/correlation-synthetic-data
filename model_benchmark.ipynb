{
 "cells": [
  {
   "cell_type": "code",
   "execution_count": 1,
   "metadata": {},
   "outputs": [],
   "source": [
    "from external.tab_pfn_gen.src.tabpfgen.tabpfgen import TabPFGen\n",
    "import torch\n",
    "from performance_metrics.measure_model_performance import measure_model_clasification_performance, measure_distance_to_nearest_neighbour\n",
    "from performance_metrics.measure_model_performance import  measure_regresion_model_performance, measure_k_anonimity\n",
    "import pandas as pd"
   ]
  },
  {
   "cell_type": "code",
   "execution_count": 2,
   "metadata": {},
   "outputs": [
    {
     "name": "stdout",
     "output_type": "stream",
     "text": [
      "Using device: cuda\n"
     ]
    }
   ],
   "source": [
    "device = torch.device('cuda' if torch.cuda.is_available() else 'cpu')\n",
    "print(\"Using device:\", device)"
   ]
  },
  {
   "cell_type": "markdown",
   "metadata": {},
   "source": [
    "# Test quality"
   ]
  },
  {
   "cell_type": "code",
   "execution_count": null,
   "metadata": {},
   "outputs": [],
   "source": [
    "generator = TabPFGen(n_sgld_steps=200, device=device)\n",
    "print(measure_model_clasification_performance(generator.generate_classification))"
   ]
  },
  {
   "cell_type": "code",
   "execution_count": null,
   "metadata": {},
   "outputs": [],
   "source": [
    "generator = TabPFGen(n_sgld_steps=200, device=device)\n",
    "print(measure_regresion_model_performance(generator.generate_regression))"
   ]
  },
  {
   "cell_type": "code",
   "execution_count": null,
   "metadata": {},
   "outputs": [],
   "source": [
    "generator = TabPFGen(n_sgld_steps=100, device=device)\n",
    "print(measure_distance_to_nearest_neighbour(generator.generate_regression, 1))"
   ]
  },
  {
   "cell_type": "code",
   "execution_count": null,
   "metadata": {},
   "outputs": [],
   "source": [
    "generator = TabPFGen(n_sgld_steps=200, device=device)\n",
    "print(measure_k_anonimity(generator.generate_regression))"
   ]
  },
  {
   "cell_type": "markdown",
   "metadata": {},
   "source": [
    "# FullTabPFGen results"
   ]
  },
  {
   "cell_type": "code",
   "execution_count": 26,
   "metadata": {},
   "outputs": [],
   "source": [
    "feature_order_results_files = {\"FullTabPFGen tree based\": \"tree.csv\", \"FullTabPFGen xgb based\": \"xgb.csv\", \"FullTabPFGen graph based\": \"graph.csv\", \"FullTabPFGen correlatio_based\": \"corelation.csv\", \"TabPFGen\": \"tabPFGen.csv\", \"FullTabPFGen\": \"FulltabPFGen.csv\"}"
   ]
  },
  {
   "cell_type": "code",
   "execution_count": 27,
   "metadata": {},
   "outputs": [],
   "source": [
    "generation_results = {}\n",
    "\n",
    "for order_type, result_file in feature_order_results_files.items():\n",
    "    results = pd.read_csv(result_file, index_col=0)\n",
    "    generation_results[order_type] = results"
   ]
  },
  {
   "cell_type": "code",
   "execution_count": 28,
   "metadata": {},
   "outputs": [
    {
     "name": "stdout",
     "output_type": "stream",
     "text": [
      "                               random_forest   xgboost        LR    TabPFN\n",
      "FullTabPFGen tree based             0.866700  0.925232  0.951740  0.938825\n",
      "FullTabPFGen xgb based              0.883522  0.904525  0.925353  0.936706\n",
      "FullTabPFGen graph based            0.880498  0.918932  0.949119  0.931119\n",
      "FullTabPFGen correlatio_based       0.871799  0.900196  0.946527  0.929597\n",
      "TabPFGen                            0.961187  0.950346  0.975144  0.964483\n",
      "FullTabPFGen                        0.864803  0.883457  0.890518  0.919167\n"
     ]
    }
   ],
   "source": [
    "print(pd.DataFrame({ordering_type: results.drop([\"dataset\"], axis=1).mean() for ordering_type, results in generation_results.items()}).T)"
   ]
  }
 ],
 "metadata": {
  "kernelspec": {
   "display_name": "pt",
   "language": "python",
   "name": "python3"
  },
  "language_info": {
   "codemirror_mode": {
    "name": "ipython",
    "version": 3
   },
   "file_extension": ".py",
   "mimetype": "text/x-python",
   "name": "python",
   "nbconvert_exporter": "python",
   "pygments_lexer": "ipython3",
   "version": "3.11.8"
  }
 },
 "nbformat": 4,
 "nbformat_minor": 2
}
