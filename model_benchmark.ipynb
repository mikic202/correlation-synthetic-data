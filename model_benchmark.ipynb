{
 "cells": [
  {
   "cell_type": "code",
   "execution_count": 12,
   "metadata": {},
   "outputs": [],
   "source": [
    "import openml\n",
    "from sklearn.model_selection import train_test_split\n",
    "from test_datasets.dataset_getters import get_pc4_dataset\n",
    "from sklearn.ensemble import RandomForestClassifier\n",
    "from sklearn.metrics import roc_auc_score\n",
    "from tabpfgen import TabPFGen\n",
    "from tabpfgen.visuals import visualize_classification_results\n",
    "from sklearn.datasets import load_breast_cancer\n",
    "import torch\n",
    "import pandas as pd"
   ]
  },
  {
   "cell_type": "code",
   "execution_count": 3,
   "metadata": {},
   "outputs": [
    {
     "name": "stdout",
     "output_type": "stream",
     "text": [
      "Using device: cuda\n"
     ]
    }
   ],
   "source": [
    "device = torch.device('cuda' if torch.cuda.is_available() else 'cpu')\n",
    "print(\"Using device:\", device)"
   ]
  },
  {
   "cell_type": "code",
   "execution_count": 4,
   "metadata": {},
   "outputs": [],
   "source": [
    "train, test = get_pc4_dataset()"
   ]
  },
  {
   "cell_type": "code",
   "execution_count": 6,
   "metadata": {},
   "outputs": [
    {
     "name": "stdout",
     "output_type": "stream",
     "text": [
      "Index(['LOC_BLANK', 'BRANCH_COUNT', 'CALL_PAIRS', 'LOC_CODE_AND_COMMENT',\n",
      "       'LOC_COMMENTS', 'CONDITION_COUNT', 'CYCLOMATIC_COMPLEXITY',\n",
      "       'CYCLOMATIC_DENSITY', 'DECISION_COUNT', 'DECISION_DENSITY',\n",
      "       'DESIGN_COMPLEXITY', 'DESIGN_DENSITY', 'EDGE_COUNT',\n",
      "       'ESSENTIAL_COMPLEXITY', 'ESSENTIAL_DENSITY', 'LOC_EXECUTABLE',\n",
      "       'PARAMETER_COUNT', 'HALSTEAD_CONTENT', 'HALSTEAD_DIFFICULTY',\n",
      "       'HALSTEAD_EFFORT', 'HALSTEAD_ERROR_EST', 'HALSTEAD_LENGTH',\n",
      "       'HALSTEAD_LEVEL', 'HALSTEAD_PROG_TIME', 'HALSTEAD_VOLUME',\n",
      "       'MAINTENANCE_SEVERITY', 'MODIFIED_CONDITION_COUNT',\n",
      "       'MULTIPLE_CONDITION_COUNT', 'NODE_COUNT',\n",
      "       'NORMALIZED_CYLOMATIC_COMPLEXITY', 'NUM_OPERANDS', 'NUM_OPERATORS',\n",
      "       'NUM_UNIQUE_OPERANDS', 'NUM_UNIQUE_OPERATORS', 'NUMBER_OF_LINES',\n",
      "       'PERCENT_COMMENTS', 'LOC_TOTAL', 'c'],\n",
      "      dtype='object')\n"
     ]
    }
   ],
   "source": [
    "print(train.columns)"
   ]
  },
  {
   "cell_type": "markdown",
   "metadata": {},
   "source": [
    "# Test quality"
   ]
  },
  {
   "cell_type": "code",
   "execution_count": 21,
   "metadata": {},
   "outputs": [
    {
     "name": "stdout",
     "output_type": "stream",
     "text": [
      "Step 0/200\n",
      "Step 100/200\n"
     ]
    }
   ],
   "source": [
    "generator = TabPFGen(n_sgld_steps=200, device=device)\n",
    "\n",
    "X, y = train.drop(\"c\", axis=1), train[\"c\"].to_list()\n",
    "\n",
    "X_synth, y_synth = generator.generate_classification(\n",
    "    X, y,\n",
    "    n_samples=X.shape[0],\n",
    "    balance_classes=True,\n",
    ")\n"
   ]
  },
  {
   "cell_type": "code",
   "execution_count": 22,
   "metadata": {},
   "outputs": [
    {
     "name": "stdout",
     "output_type": "stream",
     "text": [
      "Train AUC: 0.9999201419192179\n",
      "Train AUC: 0.9566570266554866\n"
     ]
    },
    {
     "name": "stderr",
     "output_type": "stream",
     "text": [
      "/home/mikic202/miniconda3/envs/pt/lib/python3.11/site-packages/sklearn/base.py:486: UserWarning: X has feature names, but RandomForestClassifier was fitted without feature names\n",
      "  warnings.warn(\n"
     ]
    }
   ],
   "source": [
    "clf = RandomForestClassifier().fit(X, y)\n",
    "print(\"Train AUC:\", roc_auc_score(y, clf.predict_proba(X)[:, 1]))\n",
    "clf = RandomForestClassifier().fit(X_synth, y_synth)\n",
    "print(\"Train AUC:\", roc_auc_score(y, clf.predict_proba(X)[:, 1]))"
   ]
  }
 ],
 "metadata": {
  "kernelspec": {
   "display_name": "pt",
   "language": "python",
   "name": "python3"
  },
  "language_info": {
   "codemirror_mode": {
    "name": "ipython",
    "version": 3
   },
   "file_extension": ".py",
   "mimetype": "text/x-python",
   "name": "python",
   "nbconvert_exporter": "python",
   "pygments_lexer": "ipython3",
   "version": "3.11.8"
  }
 },
 "nbformat": 4,
 "nbformat_minor": 2
}
