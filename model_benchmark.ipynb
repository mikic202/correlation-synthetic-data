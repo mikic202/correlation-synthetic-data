{
 "cells": [
  {
   "cell_type": "code",
   "execution_count": 7,
   "metadata": {},
   "outputs": [],
   "source": [
    "from external.tab_pfn_gen.src.tabpfgen.tabpfgen import TabPFGen\n",
    "import torch\n",
    "from performance_metrics.measure_model_performance import measure_model_performance\n",
    "from performance_metrics.measure_model_performance import  measure_regresion_model_performance\n"
   ]
  },
  {
   "cell_type": "code",
   "execution_count": 8,
   "metadata": {},
   "outputs": [
    {
     "name": "stdout",
     "output_type": "stream",
     "text": [
      "Using device: cpu\n"
     ]
    }
   ],
   "source": [
    "device = torch.device('cuda' if torch.cuda.is_available() else 'cpu')\n",
    "print(\"Using device:\", device)"
   ]
  },
  {
   "cell_type": "markdown",
   "metadata": {},
   "source": [
    "# Test quality"
   ]
  },
  {
   "cell_type": "code",
   "execution_count": null,
   "metadata": {},
   "outputs": [],
   "source": [
    "from test_datasets.dataset_getters import get_mfeat_zernike_dataset\n",
    "\n",
    "generator = TabPFGen(n_sgld_steps=200, device=device)\n",
    "print(\"Loading dataset...\")\n",
    "train, test = get_mfeat_zernike_dataset()\n",
    "print(\"Dataset loaded. Training model...\")\n",
    "real_x, real_y = (\n",
    "    train.drop(\"c\", axis=1),\n",
    "    train[\"c\"].to_list(),\n",
    ")\n",
    "synth_x, synth_y = generator(\n",
    "    real_x,\n",
    "    real_y,\n",
    "    n_samples=real_x.shape[0],\n",
    "    balance_classes=True,\n",
    "        )\n",
    "print(generator.generate_classification())"
   ]
  },
  {
   "cell_type": "code",
   "execution_count": null,
   "metadata": {},
   "outputs": [],
   "source": [
    "generator = TabPFGen(n_sgld_steps=200, device=device)\n",
    "print(measure_model_performance(generator.generate_classification))"
   ]
  },
  {
   "cell_type": "code",
   "execution_count": null,
   "metadata": {},
   "outputs": [],
   "source": [
    "generator = TabPFGen(n_sgld_steps=200, device=device)\n",
    "print(measure_regresion_model_performance(generator.generate_regression))"
   ]
  }
 ],
 "metadata": {
  "kernelspec": {
   "display_name": "pt",
   "language": "python",
   "name": "python3"
  },
  "language_info": {
   "codemirror_mode": {
    "name": "ipython",
    "version": 3
   },
   "file_extension": ".py",
   "mimetype": "text/x-python",
   "name": "python",
   "nbconvert_exporter": "python",
   "pygments_lexer": "ipython3",
   "version": "3.11.8"
  }
 },
 "nbformat": 4,
 "nbformat_minor": 2
}
